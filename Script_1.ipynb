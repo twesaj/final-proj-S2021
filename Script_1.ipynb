{
  "nbformat": 4,
  "nbformat_minor": 0,
  "metadata": {
    "colab": {
      "name": " Script 1",
      "provenance": [],
      "authorship_tag": "ABX9TyMEE69ijm+YFJulOWHr3GHx",
      "include_colab_link": true
    },
    "kernelspec": {
      "name": "python3",
      "display_name": "Python 3"
    },
    "language_info": {
      "name": "python"
    }
  },
  "cells": [
    {
      "cell_type": "markdown",
      "metadata": {
        "id": "view-in-github",
        "colab_type": "text"
      },
      "source": [
        "<a href=\"https://colab.research.google.com/github/twesaj/final-proj-S2021/blob/master/Script_1.ipynb\" target=\"_parent\"><img src=\"https://colab.research.google.com/assets/colab-badge.svg\" alt=\"Open In Colab\"/></a>"
      ]
    },
    {
      "cell_type": "markdown",
      "metadata": {
        "id": "KY5_KQa9ORCO"
      },
      "source": [
        "# Name: Twesa Mwaisemba\n",
        "# Assignment title: Project Script 1\n",
        "# Time to complete: 1 hour\n",
        "# Date: 04/08/2021\n",
        "# Description: Provides the weather forecast of the location based on latitude and longitude using the input from the user\n"
      ]
    },
    {
      "cell_type": "code",
      "metadata": {
        "colab": {
          "base_uri": "https://localhost:8080/"
        },
        "id": "dSlSW3KB6aXW",
        "outputId": "5be6fb4c-7740-4f8f-c11d-0c759c9e8c29"
      },
      "source": [
        "\n",
        "# import required libraries\n",
        "import requests\n",
        "from bs4 import BeautifulSoup\n",
        "\n",
        "# Create an empty list to store response\n",
        "forecast = []\n",
        "\n",
        "## Provide the latitude and longitude for the location you would like to check the forecast for\n",
        "## Lat/lon in decimal degrees provided for Worcester, MA\n",
        "print('Please input latitude')\n",
        "lat = input()\n",
        "lat = str(lat)\n",
        "print('please input longitude')\n",
        "lon = input()\n",
        "lon = str(lon)\n",
        "\n",
        "# Create url for the requested location through string concatenation\n",
        "url = 'https://forecast.weather.gov/MapClick.php?lat='+lat+\"&lon=\"+lon\n",
        "# Check if the URL exists\n",
        "# print url\n",
        "\n",
        "# Send request to retrieve the web-page using the get() function from the requests library\n",
        "# The page variable stores the response from the web-page\n",
        "page = requests.get(url)\n",
        "\n",
        "# Create a BeautifulSoup object with the response from the URL\n",
        "# Access contents of the web-page using .content\n",
        "# html_parser is used since our page is in HTML format\n",
        "soup=BeautifulSoup(page.content,\"html.parser\")\n",
        "\n",
        "# Locate elements on page to be scraped\n",
        "# findAll() locates all occurrences of div tag with the given class name\n",
        "# stores it in the BeautifulSoup object\n",
        "weather_forecast = soup.findAll(\"li\", {\"class\": \"forecast-tombstone\"})\n",
        "\n",
        "# Loop through the BeautifulSoup object to extract text text from every class instance using .text\n",
        "# Store results in a list\n",
        "for i in weather_forecast:\n",
        "    i = i.text\n",
        "    forecast.append(i)\n",
        "\n",
        "# Print list to remove unicode characters\n",
        "for day in forecast:\n",
        "    day = day.replace('CloudyLow','Cloudy Low ')\n",
        "    day = day.replace('SunnyHigh','Sunny High ')\n",
        "    day = day.replace('ClearLow','Clear Low')\n",
        "    day = day.replace('TuesdayNight','Tuesday Night ')\n",
        "    day = day.replace('WednesdayNight','Wednesday Night ')\n",
        "    day = day.replace('ThursdayNight','Thursday Night')\n",
        "    day = day.replace('FridayNight','Friday Night ')\n",
        "    day = day.upper()\n",
        "    print(day)"
      ],
      "execution_count": 8,
      "outputs": [
        {
          "output_type": "stream",
          "text": [
            "Please input latitude\n",
            "42.2634\n",
            "please input longitude\n",
            "-71.8022\n",
            "\n",
            "\n",
            "TONIGHT\n",
            "PARTLY CLOUDY LOW : 39 °F\n",
            "\n",
            "\n",
            "TUESDAY\n",
            "MOSTLY SUNNY HIGH : 58 °F\n",
            "\n",
            "\n",
            "TUESDAY NIGHT \n",
            "PARTLY CLOUDY LOW : 38 °F\n",
            "\n",
            "\n",
            "WEDNESDAY\n",
            "MOSTLY SUNNY HIGH : 62 °F\n",
            "\n",
            "\n",
            "WEDNESDAY NIGHT \n",
            "MOSTLY CLOUDY LOW : 44 °F\n",
            "\n",
            "\n",
            "THURSDAY\n",
            "PARTLY SUNNY HIGH : 62 °F\n",
            "\n",
            "\n",
            "THURSDAY NIGHT\n",
            "MOSTLY CLEAR LOW: 41 °F\n",
            "\n",
            "\n",
            "FRIDAY\n",
            "PARTLY SUNNY HIGH : 65 °F\n",
            "\n",
            "\n",
            "FRIDAY NIGHT \n",
            "MOSTLY CLOUDY LOW : 44 °F\n"
          ],
          "name": "stdout"
        }
      ]
    }
  ]
}