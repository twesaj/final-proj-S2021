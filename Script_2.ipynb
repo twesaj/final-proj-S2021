{
  "nbformat": 4,
  "nbformat_minor": 0,
  "metadata": {
    "colab": {
      "name": "Script 2",
      "provenance": [],
      "authorship_tag": "ABX9TyNymRXjUsIea25m1XNIoody",
      "include_colab_link": true
    },
    "kernelspec": {
      "name": "python3",
      "display_name": "Python 3"
    },
    "language_info": {
      "name": "python"
    }
  },
  "cells": [
    {
      "cell_type": "markdown",
      "metadata": {
        "id": "view-in-github",
        "colab_type": "text"
      },
      "source": [
        "<a href=\"https://colab.research.google.com/github/twesaj/final-proj-S2021/blob/master/Script_2.ipynb\" target=\"_parent\"><img src=\"https://colab.research.google.com/assets/colab-badge.svg\" alt=\"Open In Colab\"/></a>"
      ]
    },
    {
      "cell_type": "markdown",
      "metadata": {
        "id": "KQpVvHypQuOe"
      },
      "source": [
        "# Name: Twesa Mwaisemba\n",
        "# Assignment title: Project Script 2\n",
        "# Time to complete: 4 hours\n",
        "# Description: The chatbot provides the BMI based off the users measurement inputs.\n"
      ]
    },
    {
      "cell_type": "code",
      "metadata": {
        "id": "ojrbR_yhAc7c"
      },
      "source": [
        "#Chatbot ask: \"Hello, what is your name?\" and prompt the user with a reply using the input function\n",
        "name = input('Hello, what is your name?')\n",
        "#Chatbot say: \"Nice to meet you, <name>, let's calculate your BMI?\"\n",
        "print('Nice to meet you ' + name + ',' +  ' lets calculate your BMI')\n",
        "#Ask the user for their age\n",
        "age = input(\"What is your age?\")\n",
        "#Ask the user to input their height and weight\n",
        "height = float(input(\"Enter your height in cm: \"))\n",
        "weight = float(input(\"Enter your weight in kg: \"))\n",
        "#This fucntion calcualtes the BMI using the user's height and weight input and rounds the answer.\n",
        "bmi = round(weight / (height/100)**2)\n",
        "# This prints the statement \"you have a bmi of <bmi>\"\n",
        "print(\"you have a bmi of\", (bmi)) \n",
        "\n",
        "\n",
        "if  bmi <= 18.4:\n",
        "    print(\"You are underweight. Consider gaining weight to bring your BMI to between 20 and 25.\") #if BMI equal or less than 18.4 print \"you are underweight..\"\n",
        "elif bmi <= 24.9:\n",
        "    print(\"Perfect! you are healthy.\") #if BMI equal or less than 24.9 print \"Perfect! you are healthy..\"\n",
        "elif bmi <= 29.9:\n",
        "    print(\"You are over weight. Speak to a doctor about setting yourself a new target BMI between 20 and 25.\") #if BMI equal or less than 29.9  print \"you are overweight..\"\n",
        "elif bmi >= 30:\n",
        "    print(\"You are obese. You need to lower your BMI to between 20 and 25 or else you may be at risk.\") #if BMI equal or more than 30 print \"you are obese\"\n",
        "else:\n",
        "    print(\"Error!, missing data\") # If the numbers are out of the above categories, print \"missing data\"\n"
      ],
      "execution_count": null,
      "outputs": []
    }
  ]
}